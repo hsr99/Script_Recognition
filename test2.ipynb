{
 "cells": [
  {
   "cell_type": "code",
   "execution_count": 20,
   "metadata": {},
   "outputs": [
    {
     "name": "stdout",
     "output_type": "stream",
     "text": [
      "1/1 [==============================] - 0s 88ms/step\n",
      "the\n"
     ]
    }
   ],
   "source": [
    "from keras.models import load_model\n",
    "import cv2\n",
    "from sklearn.preprocessing import LabelEncoder\n",
    "import numpy as np \n",
    "def load_image(image_filename, target_size=(128, 128)):\n",
    "    image = cv2.imread(image_filename, cv2.IMREAD_GRAYSCALE)\n",
    "    if image is None:\n",
    "        print(f\"Error: Failed to load image '{image_filename}'\")\n",
    "        return None\n",
    "    # Resize image to target size\n",
    "    image = cv2.resize(image, target_size)\n",
    "    return image\n",
    "\n",
    "# Load the saved model\n",
    "model = load_model(\"handwriting_recognition_model.h5\")\n",
    "\n",
    "# Load the pre-trained label encoder\n",
    "encoder = LabelEncoder()\n",
    "encoder.classes_ = np.load(\"label_encoder_classes.npy\")\n",
    "\n",
    "# Predict the class of the input image\n",
    "image_filename = r\"C:\\Users\\hridy\\OneDrive\\Documents\\Sem4\\ML Project\\ramya name cursive.jpg\"\n",
    "image = load_image(image_filename)\n",
    "image = np.expand_dims(image, axis=0)\n",
    "\n",
    "predictions = model.predict(image)\n",
    "predicted_class = np.argmax(predictions)\n",
    "\n",
    "# Convert the predicted_class index to the corresponding word\n",
    "predicted_word = encoder.inverse_transform([predicted_class])[0]\n",
    "\n",
    "print(predicted_word)"
   ]
  }
 ],
 "metadata": {
  "kernelspec": {
   "display_name": ".env_mlprj",
   "language": "python",
   "name": "python3"
  },
  "language_info": {
   "codemirror_mode": {
    "name": "ipython",
    "version": 3
   },
   "file_extension": ".py",
   "mimetype": "text/x-python",
   "name": "python",
   "nbconvert_exporter": "python",
   "pygments_lexer": "ipython3",
   "version": "3.11.5"
  }
 },
 "nbformat": 4,
 "nbformat_minor": 2
}
